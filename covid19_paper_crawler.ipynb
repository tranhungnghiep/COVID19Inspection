{
 "cells": [
  {
   "cell_type": "markdown",
   "metadata": {},
   "source": [
    "## Download metadata"
   ]
  },
  {
   "cell_type": "code",
   "execution_count": 1,
   "metadata": {},
   "outputs": [
    {
     "name": "stdout",
     "output_type": "stream",
     "text": [
      "--2020-05-04 06:42:53--  https://ai2-semanticscholar-cord-19.s3-us-west-2.amazonaws.com/latest/metadata.csv\n",
      "Resolving ai2-semanticscholar-cord-19.s3-us-west-2.amazonaws.com (ai2-semanticscholar-cord-19.s3-us-west-2.amazonaws.com)... 52.218.180.201\n",
      "Connecting to ai2-semanticscholar-cord-19.s3-us-west-2.amazonaws.com (ai2-semanticscholar-cord-19.s3-us-west-2.amazonaws.com)|52.218.180.201|:443... connected.\n",
      "HTTP request sent, awaiting response... 200 OK\n",
      "Length: 89290114 (85M) [text/csv]\n",
      "Saving to: ‘metadata.csv’\n",
      "\n",
      "metadata.csv        100%[===================>]  85.15M  1.21MB/s    in 86s     \n",
      "\n",
      "2020-05-04 06:44:19 (1015 KB/s) - ‘metadata.csv’ saved [89290114/89290114]\n",
      "\n"
     ]
    }
   ],
   "source": [
    "! mkdir data\n",
    "! cd ./data\n",
    "! wget https://ai2-semanticscholar-cord-19.s3-us-west-2.amazonaws.com/latest/metadata.csv\n",
    "! cd .."
   ]
  },
  {
   "cell_type": "markdown",
   "metadata": {},
   "source": [
    "## Look at metadata"
   ]
  },
  {
   "cell_type": "code",
   "execution_count": 31,
   "metadata": {},
   "outputs": [],
   "source": [
    "email = 'test@test.com'"
   ]
  },
  {
   "cell_type": "code",
   "execution_count": 21,
   "metadata": {},
   "outputs": [],
   "source": [
    "import pandas as pd\n",
    "import os"
   ]
  },
  {
   "cell_type": "code",
   "execution_count": 25,
   "metadata": {},
   "outputs": [],
   "source": [
    "data_dir = './data'\n",
    "all_sources_metadata_file = os.path.join(data_dir, 'metadata.csv')\n",
    "all_sources_metadata_file = os.path.join(data_dir, 'metadata.csv')\n",
    "df = pd.read_csv(all_sources_metadata_file)"
   ]
  },
  {
   "cell_type": "code",
   "execution_count": 26,
   "metadata": {
    "scrolled": true
   },
   "outputs": [
    {
     "data": {
      "text/html": [
       "<div>\n",
       "<style scoped>\n",
       "    .dataframe tbody tr th:only-of-type {\n",
       "        vertical-align: middle;\n",
       "    }\n",
       "\n",
       "    .dataframe tbody tr th {\n",
       "        vertical-align: top;\n",
       "    }\n",
       "\n",
       "    .dataframe thead th {\n",
       "        text-align: right;\n",
       "    }\n",
       "</style>\n",
       "<table border=\"1\" class=\"dataframe\">\n",
       "  <thead>\n",
       "    <tr style=\"text-align: right;\">\n",
       "      <th></th>\n",
       "      <th>sha</th>\n",
       "      <th>source_x</th>\n",
       "      <th>title</th>\n",
       "      <th>doi</th>\n",
       "      <th>pmcid</th>\n",
       "      <th>pubmed_id</th>\n",
       "      <th>license</th>\n",
       "      <th>abstract</th>\n",
       "      <th>publish_time</th>\n",
       "      <th>authors</th>\n",
       "      <th>journal</th>\n",
       "      <th>Microsoft Academic Paper ID</th>\n",
       "      <th>WHO #Covidence</th>\n",
       "      <th>has_full_text</th>\n",
       "    </tr>\n",
       "  </thead>\n",
       "  <tbody>\n",
       "    <tr>\n",
       "      <th>0</th>\n",
       "      <td>c630ebcdf30652f0422c3ec12a00b50241dc9bd9</td>\n",
       "      <td>CZI</td>\n",
       "      <td>Angiotensin-converting enzyme 2 (ACE2) as a SA...</td>\n",
       "      <td>10.1007/s00134-020-05985-9</td>\n",
       "      <td>NaN</td>\n",
       "      <td>32125455.0</td>\n",
       "      <td>cc-by-nc</td>\n",
       "      <td>NaN</td>\n",
       "      <td>2020</td>\n",
       "      <td>Zhang, Haibo; Penninger, Josef M.; Li, Yimin; ...</td>\n",
       "      <td>Intensive Care Med</td>\n",
       "      <td>2.002765e+09</td>\n",
       "      <td>#3252</td>\n",
       "      <td>True</td>\n",
       "    </tr>\n",
       "    <tr>\n",
       "      <th>1</th>\n",
       "      <td>53eccda7977a31e3d0f565c884da036b1e85438e</td>\n",
       "      <td>CZI</td>\n",
       "      <td>Comparative genetic analysis of the novel coro...</td>\n",
       "      <td>10.1038/s41421-020-0147-1</td>\n",
       "      <td>NaN</td>\n",
       "      <td>NaN</td>\n",
       "      <td>cc-by</td>\n",
       "      <td>NaN</td>\n",
       "      <td>2020</td>\n",
       "      <td>Cao, Yanan; Li, Lin; Feng, Zhimin; Wan, Shengq...</td>\n",
       "      <td>Cell Discovery</td>\n",
       "      <td>3.003431e+09</td>\n",
       "      <td>#1861</td>\n",
       "      <td>True</td>\n",
       "    </tr>\n",
       "    <tr>\n",
       "      <th>2</th>\n",
       "      <td>210a892deb1c61577f6fba58505fd65356ce6636</td>\n",
       "      <td>CZI</td>\n",
       "      <td>Incubation Period and Other Epidemiological Ch...</td>\n",
       "      <td>10.3390/jcm9020538</td>\n",
       "      <td>NaN</td>\n",
       "      <td>NaN</td>\n",
       "      <td>cc-by</td>\n",
       "      <td>The geographic spread of 2019 novel coronaviru...</td>\n",
       "      <td>2020</td>\n",
       "      <td>Linton, M. Natalie; Kobayashi, Tetsuro; Yang, ...</td>\n",
       "      <td>Journal of Clinical Medicine</td>\n",
       "      <td>3.006065e+09</td>\n",
       "      <td>#1043</td>\n",
       "      <td>True</td>\n",
       "    </tr>\n",
       "    <tr>\n",
       "      <th>3</th>\n",
       "      <td>e3b40cc8e0e137c416b4a2273a4dca94ae8178cc</td>\n",
       "      <td>CZI</td>\n",
       "      <td>Characteristics of and Public Health Responses...</td>\n",
       "      <td>10.3390/jcm9020575</td>\n",
       "      <td>NaN</td>\n",
       "      <td>32093211.0</td>\n",
       "      <td>cc-by</td>\n",
       "      <td>In December 2019, cases of unidentified pneumo...</td>\n",
       "      <td>2020</td>\n",
       "      <td>Deng, Sheng-Qun; Peng, Hong-Juan</td>\n",
       "      <td>J Clin Med</td>\n",
       "      <td>1.776631e+08</td>\n",
       "      <td>#1999</td>\n",
       "      <td>True</td>\n",
       "    </tr>\n",
       "    <tr>\n",
       "      <th>4</th>\n",
       "      <td>92c2c9839304b4f2bc1276d41b1aa885d8b364fd</td>\n",
       "      <td>CZI</td>\n",
       "      <td>Imaging changes in severe COVID-19 pneumonia</td>\n",
       "      <td>10.1007/s00134-020-05976-w</td>\n",
       "      <td>NaN</td>\n",
       "      <td>32125453.0</td>\n",
       "      <td>cc-by-nc</td>\n",
       "      <td>NaN</td>\n",
       "      <td>2020</td>\n",
       "      <td>Zhang, Wei</td>\n",
       "      <td>Intensive Care Med</td>\n",
       "      <td>3.006643e+09</td>\n",
       "      <td>#3242</td>\n",
       "      <td>False</td>\n",
       "    </tr>\n",
       "  </tbody>\n",
       "</table>\n",
       "</div>"
      ],
      "text/plain": [
       "                                        sha source_x  \\\n",
       "0  c630ebcdf30652f0422c3ec12a00b50241dc9bd9      CZI   \n",
       "1  53eccda7977a31e3d0f565c884da036b1e85438e      CZI   \n",
       "2  210a892deb1c61577f6fba58505fd65356ce6636      CZI   \n",
       "3  e3b40cc8e0e137c416b4a2273a4dca94ae8178cc      CZI   \n",
       "4  92c2c9839304b4f2bc1276d41b1aa885d8b364fd      CZI   \n",
       "\n",
       "                                               title  \\\n",
       "0  Angiotensin-converting enzyme 2 (ACE2) as a SA...   \n",
       "1  Comparative genetic analysis of the novel coro...   \n",
       "2  Incubation Period and Other Epidemiological Ch...   \n",
       "3  Characteristics of and Public Health Responses...   \n",
       "4       Imaging changes in severe COVID-19 pneumonia   \n",
       "\n",
       "                          doi pmcid   pubmed_id   license  \\\n",
       "0  10.1007/s00134-020-05985-9   NaN  32125455.0  cc-by-nc   \n",
       "1   10.1038/s41421-020-0147-1   NaN         NaN     cc-by   \n",
       "2          10.3390/jcm9020538   NaN         NaN     cc-by   \n",
       "3          10.3390/jcm9020575   NaN  32093211.0     cc-by   \n",
       "4  10.1007/s00134-020-05976-w   NaN  32125453.0  cc-by-nc   \n",
       "\n",
       "                                            abstract publish_time  \\\n",
       "0                                                NaN         2020   \n",
       "1                                                NaN         2020   \n",
       "2  The geographic spread of 2019 novel coronaviru...         2020   \n",
       "3  In December 2019, cases of unidentified pneumo...         2020   \n",
       "4                                                NaN         2020   \n",
       "\n",
       "                                             authors  \\\n",
       "0  Zhang, Haibo; Penninger, Josef M.; Li, Yimin; ...   \n",
       "1  Cao, Yanan; Li, Lin; Feng, Zhimin; Wan, Shengq...   \n",
       "2  Linton, M. Natalie; Kobayashi, Tetsuro; Yang, ...   \n",
       "3                   Deng, Sheng-Qun; Peng, Hong-Juan   \n",
       "4                                         Zhang, Wei   \n",
       "\n",
       "                        journal  Microsoft Academic Paper ID WHO #Covidence  \\\n",
       "0            Intensive Care Med                 2.002765e+09          #3252   \n",
       "1                Cell Discovery                 3.003431e+09          #1861   \n",
       "2  Journal of Clinical Medicine                 3.006065e+09          #1043   \n",
       "3                    J Clin Med                 1.776631e+08          #1999   \n",
       "4            Intensive Care Med                 3.006643e+09          #3242   \n",
       "\n",
       "  has_full_text  \n",
       "0          True  \n",
       "1          True  \n",
       "2          True  \n",
       "3          True  \n",
       "4         False  "
      ]
     },
     "execution_count": 26,
     "metadata": {},
     "output_type": "execute_result"
    }
   ],
   "source": [
    "df.head()"
   ]
  },
  {
   "cell_type": "code",
   "execution_count": 27,
   "metadata": {},
   "outputs": [
    {
     "data": {
      "text/plain": [
       "sha                            17398\n",
       "source_x                           4\n",
       "title                          24654\n",
       "doi                            22203\n",
       "pmcid                          23222\n",
       "pubmed_id                      12607\n",
       "license                           15\n",
       "abstract                       22453\n",
       "publish_time                    4499\n",
       "authors                        23860\n",
       "journal                         1732\n",
       "Microsoft Academic Paper ID      872\n",
       "WHO #Covidence                  1223\n",
       "has_full_text                      2\n",
       "dtype: int64"
      ]
     },
     "execution_count": 27,
     "metadata": {},
     "output_type": "execute_result"
    }
   ],
   "source": [
    "df.nunique()"
   ]
  },
  {
   "cell_type": "code",
   "execution_count": 28,
   "metadata": {},
   "outputs": [
    {
     "data": {
      "text/plain": [
       "sha                            17420\n",
       "source_x                       29500\n",
       "title                          29130\n",
       "doi                            26357\n",
       "pmcid                          27337\n",
       "pubmed_id                      16730\n",
       "license                        17692\n",
       "abstract                       26553\n",
       "publish_time                   18248\n",
       "authors                        28554\n",
       "journal                        17791\n",
       "Microsoft Academic Paper ID     1134\n",
       "WHO #Covidence                  1236\n",
       "has_full_text                  17420\n",
       "dtype: int64"
      ]
     },
     "execution_count": 28,
     "metadata": {},
     "output_type": "execute_result"
    }
   ],
   "source": [
    "df.count()"
   ]
  },
  {
   "cell_type": "markdown",
   "metadata": {},
   "source": [
    "### It means, the original data is not clean. There are duplicates papers, by any measure."
   ]
  },
  {
   "cell_type": "code",
   "execution_count": 29,
   "metadata": {},
   "outputs": [
    {
     "data": {
      "text/plain": [
       "7296"
      ]
     },
     "execution_count": 29,
     "metadata": {},
     "output_type": "execute_result"
    }
   ],
   "source": [
    "df.duplicated('doi').sum()  # duplicate doi"
   ]
  },
  {
   "cell_type": "code",
   "execution_count": 30,
   "metadata": {},
   "outputs": [
    {
     "data": {
      "text/plain": [
       "25300"
      ]
     },
     "execution_count": 30,
     "metadata": {},
     "output_type": "execute_result"
    }
   ],
   "source": [
    "df.loc[:, ['doi', 'title', 'authors']].drop_duplicates().shape[0]"
   ]
  },
  {
   "cell_type": "code",
   "execution_count": 32,
   "metadata": {},
   "outputs": [
    {
     "data": {
      "text/plain": [
       "2401"
      ]
     },
     "execution_count": 32,
     "metadata": {},
     "output_type": "execute_result"
    }
   ],
   "source": [
    "df.loc[:, 'title':].duplicated().sum()\n",
    "\n",
    "# There are at least > 2400 lines that are totally repeated, not including the sha hash."
   ]
  },
  {
   "cell_type": "code",
   "execution_count": 33,
   "metadata": {},
   "outputs": [
    {
     "data": {
      "text/plain": [
       "(17399, 14)"
      ]
     },
     "execution_count": 33,
     "metadata": {},
     "output_type": "execute_result"
    }
   ],
   "source": [
    "df.drop_duplicates('sha').shape"
   ]
  },
  {
   "cell_type": "code",
   "execution_count": 34,
   "metadata": {},
   "outputs": [
    {
     "data": {
      "text/plain": [
       "sha                            17398\n",
       "source_x                           4\n",
       "title                          12843\n",
       "doi                            12970\n",
       "pmcid                          12196\n",
       "pubmed_id                      11997\n",
       "license                           15\n",
       "abstract                       12153\n",
       "publish_time                    4436\n",
       "authors                        12588\n",
       "journal                         1350\n",
       "Microsoft Academic Paper ID      143\n",
       "WHO #Covidence                   167\n",
       "has_full_text                      2\n",
       "dtype: int64"
      ]
     },
     "execution_count": 34,
     "metadata": {},
     "output_type": "execute_result"
    }
   ],
   "source": [
    "df.drop_duplicates('sha').nunique()\n",
    "\n",
    "# even sha-based papers are not unique papers, there are duplicate papers with different sha"
   ]
  },
  {
   "cell_type": "code",
   "execution_count": 35,
   "metadata": {},
   "outputs": [
    {
     "data": {
      "text/plain": [
       "0       10.1007/s00134-020-05985-9\n",
       "1        10.1038/s41421-020-0147-1\n",
       "2               10.3390/jcm9020538\n",
       "3               10.3390/jcm9020575\n",
       "4       10.1007/s00134-020-05976-w\n",
       "5        10.1016/j.idm.2020.02.001\n",
       "6        10.1016/j.idm.2020.02.002\n",
       "7    10.1016/s2214-109x(20)30065-6\n",
       "8              10.1093/jtm/taaa030\n",
       "9            10.1128/mBio.02764-19\n",
       "Name: doi, dtype: object"
      ]
     },
     "execution_count": 35,
     "metadata": {},
     "output_type": "execute_result"
    }
   ],
   "source": [
    "df.loc[:, 'doi'][:10]"
   ]
  },
  {
   "cell_type": "code",
   "execution_count": 36,
   "metadata": {},
   "outputs": [
    {
     "data": {
      "text/plain": [
       "29490    doi.org/10.1101/2020.03.08.20029710\n",
       "29491    doi.org/10.1101/2020.03.08.20030643\n",
       "29492    doi.org/10.1101/2020.03.08.20031229\n",
       "29493    doi.org/10.1101/2020.03.08.20031658\n",
       "29494    doi.org/10.1101/2020.03.08.20032821\n",
       "29495    doi.org/10.1101/2020.03.08.20032847\n",
       "29496    doi.org/10.1101/2020.03.08.20032854\n",
       "29497    doi.org/10.1101/2020.03.09.20032219\n",
       "29498    doi.org/10.1101/2020.03.09.20033183\n",
       "29499    doi.org/10.1101/2020.03.09.20033217\n",
       "Name: doi, dtype: object"
      ]
     },
     "execution_count": 36,
     "metadata": {},
     "output_type": "execute_result"
    }
   ],
   "source": [
    "df.loc[:, 'doi'][-10:]"
   ]
  },
  {
   "cell_type": "code",
   "execution_count": 37,
   "metadata": {
    "scrolled": true
   },
   "outputs": [
    {
     "data": {
      "text/plain": [
       "{'best_oa_location': {'endpoint_id': None,\n",
       "  'evidence': 'open (via page says license)',\n",
       "  'host_type': 'publisher',\n",
       "  'is_best': True,\n",
       "  'license': 'cc-by-nc',\n",
       "  'pmh_id': None,\n",
       "  'repository_institution': None,\n",
       "  'updated': '2020-05-02T15:09:51.080878',\n",
       "  'url': 'https://link.springer.com/content/pdf/10.1007/s00134-020-05985-9.pdf',\n",
       "  'url_for_landing_page': 'https://doi.org/10.1007/s00134-020-05985-9',\n",
       "  'url_for_pdf': 'https://link.springer.com/content/pdf/10.1007/s00134-020-05985-9.pdf',\n",
       "  'version': 'publishedVersion'},\n",
       " 'data_standard': 2,\n",
       " 'doi': '10.1007/s00134-020-05985-9',\n",
       " 'doi_url': 'https://doi.org/10.1007/s00134-020-05985-9',\n",
       " 'genre': 'journal-article',\n",
       " 'has_repository_copy': True,\n",
       " 'is_oa': True,\n",
       " 'is_paratext': False,\n",
       " 'journal_is_in_doaj': False,\n",
       " 'journal_is_oa': False,\n",
       " 'journal_issn_l': '0342-4642',\n",
       " 'journal_issns': '0342-4642,1432-1238',\n",
       " 'journal_name': 'Intensive Care Medicine',\n",
       " 'oa_locations': [{'endpoint_id': None,\n",
       "   'evidence': 'open (via page says license)',\n",
       "   'host_type': 'publisher',\n",
       "   'is_best': True,\n",
       "   'license': 'cc-by-nc',\n",
       "   'pmh_id': None,\n",
       "   'repository_institution': None,\n",
       "   'updated': '2020-05-02T15:09:51.080878',\n",
       "   'url': 'https://link.springer.com/content/pdf/10.1007/s00134-020-05985-9.pdf',\n",
       "   'url_for_landing_page': 'https://doi.org/10.1007/s00134-020-05985-9',\n",
       "   'url_for_pdf': 'https://link.springer.com/content/pdf/10.1007/s00134-020-05985-9.pdf',\n",
       "   'version': 'publishedVersion'},\n",
       "  {'endpoint_id': '38399726be1bec8000a',\n",
       "   'evidence': 'oa repository (via OAI-PMH doi match)',\n",
       "   'host_type': 'repository',\n",
       "   'is_best': False,\n",
       "   'license': 'cc-by-nc',\n",
       "   'pmh_id': 'oai:frl.publisso.de:frl:6419559',\n",
       "   'repository_institution': None,\n",
       "   'updated': '2020-03-31T13:48:20.077502',\n",
       "   'url': 'http://europepmc.org/articles/pmc7079879?pdf=render',\n",
       "   'url_for_landing_page': 'http://europepmc.org/articles/pmc7079879',\n",
       "   'url_for_pdf': 'http://europepmc.org/articles/pmc7079879?pdf=render',\n",
       "   'version': 'publishedVersion'},\n",
       "  {'endpoint_id': '38399726be1bec8000a',\n",
       "   'evidence': 'oa repository (via OAI-PMH doi match)',\n",
       "   'host_type': 'repository',\n",
       "   'is_best': False,\n",
       "   'license': 'cc-by-nc',\n",
       "   'pmh_id': 'oai:frl.publisso.de:frl:6419559',\n",
       "   'repository_institution': None,\n",
       "   'updated': '2020-03-31T13:45:10.834132',\n",
       "   'url': 'https://repository.publisso.de/resource/frl:6419560/data',\n",
       "   'url_for_landing_page': 'https://repository.publisso.de/resource/frl:6419559',\n",
       "   'url_for_pdf': 'https://repository.publisso.de/resource/frl:6419560/data',\n",
       "   'version': 'publishedVersion'},\n",
       "  {'endpoint_id': None,\n",
       "   'evidence': 'oa repository (via pmcid lookup)',\n",
       "   'host_type': 'repository',\n",
       "   'is_best': False,\n",
       "   'license': None,\n",
       "   'pmh_id': None,\n",
       "   'repository_institution': None,\n",
       "   'updated': '2020-05-03T22:27:00.539309',\n",
       "   'url': 'https://www.ncbi.nlm.nih.gov/pmc/articles/PMC7079879',\n",
       "   'url_for_landing_page': 'https://www.ncbi.nlm.nih.gov/pmc/articles/PMC7079879',\n",
       "   'url_for_pdf': None,\n",
       "   'version': 'publishedVersion'}],\n",
       " 'oa_status': 'hybrid',\n",
       " 'published_date': '2020-03-03',\n",
       " 'publisher': 'Springer Science and Business Media LLC',\n",
       " 'title': 'Angiotensin-converting enzyme 2 (ACE2) as a SARS-CoV-2 receptor: molecular mechanisms and potential therapeutic target',\n",
       " 'updated': '2020-04-02T11:13:57.603973',\n",
       " 'year': 2020,\n",
       " 'z_authors': [{'ORCID': 'http://orcid.org/0000-0002-1714-3038',\n",
       "   'authenticated-orcid': False,\n",
       "   'family': 'Zhang',\n",
       "   'given': 'Haibo',\n",
       "   'sequence': 'first'},\n",
       "  {'family': 'Penninger', 'given': 'Josef M.', 'sequence': 'additional'},\n",
       "  {'family': 'Li', 'given': 'Yimin', 'sequence': 'additional'},\n",
       "  {'family': 'Zhong', 'given': 'Nanshan', 'sequence': 'additional'},\n",
       "  {'family': 'Slutsky', 'given': 'Arthur S.', 'sequence': 'additional'}]}"
      ]
     },
     "execution_count": 37,
     "metadata": {},
     "output_type": "execute_result"
    }
   ],
   "source": [
    "import requests\n",
    "\n",
    "response = requests.get('https://api.unpaywall.org/v2/doi.org/%s?email=%s' % (df.loc[:, 'doi'][0], email))\n",
    "\n",
    "response.json()"
   ]
  },
  {
   "cell_type": "code",
   "execution_count": 6,
   "metadata": {},
   "outputs": [
    {
     "data": {
      "text/plain": [
       "'https://www.medrxiv.org/content/medrxiv/early/2020/03/13/2020.03.09.20033217.full.pdf'"
      ]
     },
     "execution_count": 6,
     "metadata": {},
     "output_type": "execute_result"
    }
   ],
   "source": [
    "unpaywalldata = response.json()\n",
    "\n",
    "unpaywalldata['best_oa_location']['url_for_pdf']"
   ]
  },
  {
   "cell_type": "code",
   "execution_count": 7,
   "metadata": {},
   "outputs": [
    {
     "data": {
      "text/plain": [
       "('doi.org_10.1101_2020.03.09.20033217.pdf',\n",
       " <http.client.HTTPMessage at 0x10ed799e8>)"
      ]
     },
     "execution_count": 7,
     "metadata": {},
     "output_type": "execute_result"
    }
   ],
   "source": [
    "import urllib.request\n",
    "import os\n",
    "\n",
    "urllib.request.urlretrieve(unpaywalldata['best_oa_location']['url_for_pdf'], \n",
    "                           os.path.join(data_dir, 'doi.org/10.1101/2020.03.09.20033217'.replace('/', '_') + '.pdf'))\n",
    "# download OK."
   ]
  },
  {
   "cell_type": "markdown",
   "metadata": {},
   "source": [
    "## Get url of doi"
   ]
  },
  {
   "cell_type": "markdown",
   "metadata": {},
   "source": [
    "### (should drop duplicates before query url)"
   ]
  },
  {
   "cell_type": "code",
   "execution_count": 38,
   "metadata": {},
   "outputs": [
    {
     "data": {
      "text/plain": [
       "(29500, 14)"
      ]
     },
     "execution_count": 38,
     "metadata": {},
     "output_type": "execute_result"
    }
   ],
   "source": [
    "df.shape"
   ]
  },
  {
   "cell_type": "code",
   "execution_count": 39,
   "metadata": {},
   "outputs": [
    {
     "data": {
      "text/plain": [
       "3143"
      ]
     },
     "execution_count": 39,
     "metadata": {},
     "output_type": "execute_result"
    }
   ],
   "source": [
    "df.loc[:, 'doi'].isna().sum() # some papers do not have doi"
   ]
  },
  {
   "cell_type": "code",
   "execution_count": 40,
   "metadata": {},
   "outputs": [],
   "source": [
    "df_u = df.drop_duplicates('doi')"
   ]
  },
  {
   "cell_type": "code",
   "execution_count": 41,
   "metadata": {},
   "outputs": [
    {
     "data": {
      "text/plain": [
       "(22204, 14)"
      ]
     },
     "execution_count": 41,
     "metadata": {},
     "output_type": "execute_result"
    }
   ],
   "source": [
    "df_u.shape # and some other papers have duplicate dois"
   ]
  },
  {
   "cell_type": "code",
   "execution_count": 9,
   "metadata": {},
   "outputs": [],
   "source": [
    "import requests\n",
    "\n",
    "def get_url(doi):\n",
    "    try:\n",
    "        response = requests.get('https://api.unpaywall.org/v2/%s?email=%s' % (doi, email))\n",
    "        url = response.json()['best_oa_location']['url_for_pdf']\n",
    "        return url\n",
    "    except Exception as e:\n",
    "        print('GET {} error: {}'.format(doi, str(e)))\n",
    "        return \"\"\n"
   ]
  },
  {
   "cell_type": "code",
   "execution_count": 19,
   "metadata": {
    "scrolled": true
   },
   "outputs": [
    {
     "name": "stdout",
     "output_type": "stream",
     "text": [
      "Processed 0 dois.\n",
      "Processed 1000 dois.\n",
      "Processed 2000 dois.\n",
      "Processed 3000 dois.\n",
      "Processed 4000 dois.\n",
      "Processed 5000 dois.\n",
      "Processed 6000 dois.\n",
      "Processed 7000 dois.\n",
      "Processed 8000 dois.\n",
      "Processed 9000 dois.\n",
      "Processed 10000 dois.\n",
      "Processed 11000 dois.\n",
      "Processed 12000 dois.\n",
      "Processed 13000 dois.\n",
      "Processed 14000 dois.\n",
      "Processed 15000 dois.\n",
      "Processed 16000 dois.\n",
      "Processed 17000 dois.\n",
      "Processed 18000 dois.\n",
      "Processed 19000 dois.\n",
      "Processed 20000 dois.\n",
      "Processed 21000 dois.\n",
      "Processed 22000 dois.\n",
      "Processed 23000 dois.\n",
      "Processed 24000 dois.\n",
      "Processed 25000 dois.\n",
      "Processed 26000 dois.\n",
      "Processed 27000 dois.\n",
      "Processed 28000 dois.\n",
      "Processed 29000 dois.\n"
     ]
    }
   ],
   "source": [
    "doi_df_u = df.drop_duplicates('doi').loc[:, ['doi']]\n",
    "doi_df_u.loc[:, 'url'] = ''\n",
    "\n",
    "from multiprocessing.pool import ThreadPool\n",
    "\n",
    "pool_size = 100\n",
    "with ThreadPool(pool_size) as pool:\n",
    "    for i in range(0, doi_df_u.shape[0], pool_size):\n",
    "        print('Processed {} dois.'.format(i))\n",
    "        doi_df_u.iloc[i:i+pool_size, 1] = pool.map(get_url, doi_df_u.iloc[i:i+pool_size, 0])\n"
   ]
  },
  {
   "cell_type": "code",
   "execution_count": 18,
   "metadata": {},
   "outputs": [
    {
     "data": {
      "text/plain": [
       "(22204, 2)"
      ]
     },
     "execution_count": 18,
     "metadata": {},
     "output_type": "execute_result"
    }
   ],
   "source": [
    "doi_df_u.shape"
   ]
  },
  {
   "cell_type": "code",
   "execution_count": 17,
   "metadata": {},
   "outputs": [
    {
     "data": {
      "text/plain": [
       "doi    22203\n",
       "url    18871\n",
       "dtype: int64"
      ]
     },
     "execution_count": 17,
     "metadata": {},
     "output_type": "execute_result"
    }
   ],
   "source": [
    "doi_df_u.nunique()"
   ]
  },
  {
   "cell_type": "code",
   "execution_count": 19,
   "metadata": {
    "scrolled": true
   },
   "outputs": [
    {
     "data": {
      "text/html": [
       "<div>\n",
       "<style scoped>\n",
       "    .dataframe tbody tr th:only-of-type {\n",
       "        vertical-align: middle;\n",
       "    }\n",
       "\n",
       "    .dataframe tbody tr th {\n",
       "        vertical-align: top;\n",
       "    }\n",
       "\n",
       "    .dataframe thead th {\n",
       "        text-align: right;\n",
       "    }\n",
       "</style>\n",
       "<table border=\"1\" class=\"dataframe\">\n",
       "  <thead>\n",
       "    <tr style=\"text-align: right;\">\n",
       "      <th></th>\n",
       "      <th>doi</th>\n",
       "      <th>url</th>\n",
       "    </tr>\n",
       "  </thead>\n",
       "  <tbody>\n",
       "    <tr>\n",
       "      <th>0</th>\n",
       "      <td>10.1007/s00134-020-05985-9</td>\n",
       "      <td>https://link.springer.com/content/pdf/10.1007/...</td>\n",
       "    </tr>\n",
       "    <tr>\n",
       "      <th>1</th>\n",
       "      <td>10.1038/s41421-020-0147-1</td>\n",
       "      <td>https://www.nature.com/articles/s41421-020-014...</td>\n",
       "    </tr>\n",
       "    <tr>\n",
       "      <th>2</th>\n",
       "      <td>10.3390/jcm9020538</td>\n",
       "      <td>https://www.mdpi.com/2077-0383/9/2/538/pdf</td>\n",
       "    </tr>\n",
       "    <tr>\n",
       "      <th>3</th>\n",
       "      <td>10.3390/jcm9020575</td>\n",
       "      <td>https://www.mdpi.com/2077-0383/9/2/575/pdf</td>\n",
       "    </tr>\n",
       "    <tr>\n",
       "      <th>4</th>\n",
       "      <td>10.1007/s00134-020-05976-w</td>\n",
       "      <td>https://link.springer.com/content/pdf/10.1007/...</td>\n",
       "    </tr>\n",
       "    <tr>\n",
       "      <th>5</th>\n",
       "      <td>10.1016/j.idm.2020.02.001</td>\n",
       "      <td>NaN</td>\n",
       "    </tr>\n",
       "    <tr>\n",
       "      <th>6</th>\n",
       "      <td>10.1016/j.idm.2020.02.002</td>\n",
       "      <td>NaN</td>\n",
       "    </tr>\n",
       "    <tr>\n",
       "      <th>7</th>\n",
       "      <td>10.1016/s2214-109x(20)30065-6</td>\n",
       "      <td>http://www.thelancet.com/article/S2214109X2030...</td>\n",
       "    </tr>\n",
       "    <tr>\n",
       "      <th>8</th>\n",
       "      <td>10.1093/jtm/taaa030</td>\n",
       "      <td>https://academic.oup.com/jtm/advance-article-p...</td>\n",
       "    </tr>\n",
       "    <tr>\n",
       "      <th>9</th>\n",
       "      <td>10.1128/mBio.02764-19</td>\n",
       "      <td>https://mbio.asm.org/content/mbio/11/1/e02764-...</td>\n",
       "    </tr>\n",
       "    <tr>\n",
       "      <th>10</th>\n",
       "      <td>10.1186/s41256-020-00137-4</td>\n",
       "      <td>https://ghrp.biomedcentral.com/track/pdf/10.11...</td>\n",
       "    </tr>\n",
       "    <tr>\n",
       "      <th>11</th>\n",
       "      <td>10.2807/1560-7917.ES.2020.25.5.2000080</td>\n",
       "      <td>https://www.eurosurveillance.org/deliver/fullt...</td>\n",
       "    </tr>\n",
       "    <tr>\n",
       "      <th>12</th>\n",
       "      <td>10.1093/bioinformatics/btaa145</td>\n",
       "      <td>https://academic.oup.com/bioinformatics/advanc...</td>\n",
       "    </tr>\n",
       "    <tr>\n",
       "      <th>13</th>\n",
       "      <td>10.3346/jkms.2020.35.e79</td>\n",
       "      <td>NaN</td>\n",
       "    </tr>\n",
       "    <tr>\n",
       "      <th>14</th>\n",
       "      <td>10.3390/pathogens9020148</td>\n",
       "      <td>https://www.mdpi.com/2076-0817/9/2/148/pdf</td>\n",
       "    </tr>\n",
       "    <tr>\n",
       "      <th>15</th>\n",
       "      <td>10.1016/j.eclinm.2020.100289</td>\n",
       "      <td>http://www.thelancet.com/article/S258953702030...</td>\n",
       "    </tr>\n",
       "    <tr>\n",
       "      <th>16</th>\n",
       "      <td>10.1016/j.meegid.2020.104272</td>\n",
       "      <td>NaN</td>\n",
       "    </tr>\n",
       "    <tr>\n",
       "      <th>17</th>\n",
       "      <td>10.1016/j.micinf.2020.01.004</td>\n",
       "      <td>NaN</td>\n",
       "    </tr>\n",
       "    <tr>\n",
       "      <th>18</th>\n",
       "      <td>10.1038/s41422-020-0282-0</td>\n",
       "      <td>https://www.nature.com/articles/s41422-020-028...</td>\n",
       "    </tr>\n",
       "    <tr>\n",
       "      <th>19</th>\n",
       "      <td>10.1093/jtm/taaa011</td>\n",
       "      <td>https://academic.oup.com/jtm/article-pdf/27/2/...</td>\n",
       "    </tr>\n",
       "    <tr>\n",
       "      <th>20</th>\n",
       "      <td>10.12809/hkmj208375</td>\n",
       "      <td>https://www.hkmj.org/system/files/hkmj208375.pdf</td>\n",
       "    </tr>\n",
       "    <tr>\n",
       "      <th>21</th>\n",
       "      <td>10.20535/ibb.2020.4.1.195074</td>\n",
       "      <td>http://ibb.kpi.ua/article/download/195074/pdf_71</td>\n",
       "    </tr>\n",
       "    <tr>\n",
       "      <th>22</th>\n",
       "      <td>10.2807/1560-7917.ES.2020.25.8.2000097</td>\n",
       "      <td>https://www.eurosurveillance.org/deliver/fullt...</td>\n",
       "    </tr>\n",
       "    <tr>\n",
       "      <th>23</th>\n",
       "      <td>10.1093/pcmedi/pbaa004</td>\n",
       "      <td>https://academic.oup.com/pcm/advance-article-p...</td>\n",
       "    </tr>\n",
       "    <tr>\n",
       "      <th>24</th>\n",
       "      <td>10.3389/fmicb.2019.03036</td>\n",
       "      <td>https://www.frontiersin.org/articles/10.3389/f...</td>\n",
       "    </tr>\n",
       "    <tr>\n",
       "      <th>25</th>\n",
       "      <td>10.3390/ijerph17051633</td>\n",
       "      <td>https://www.mdpi.com/1660-4601/17/5/1633/pdf</td>\n",
       "    </tr>\n",
       "    <tr>\n",
       "      <th>26</th>\n",
       "      <td>10.1007/s13238-020-00693-y</td>\n",
       "      <td>https://link.springer.com/content/pdf/10.1007/...</td>\n",
       "    </tr>\n",
       "    <tr>\n",
       "      <th>27</th>\n",
       "      <td>10.1016/s2214-109x(20)30076-0</td>\n",
       "      <td>http://www.thelancet.com/article/S2214109X2030...</td>\n",
       "    </tr>\n",
       "    <tr>\n",
       "      <th>28</th>\n",
       "      <td>10.1186/s13054-020-2786-x</td>\n",
       "      <td>https://ccforum.biomedcentral.com/track/pdf/10...</td>\n",
       "    </tr>\n",
       "    <tr>\n",
       "      <th>29</th>\n",
       "      <td>10.24171/j.phrp.2020.11.1.01</td>\n",
       "      <td>http://ophrp.org/upload/pdf/ophrp-11-1.pdf</td>\n",
       "    </tr>\n",
       "    <tr>\n",
       "      <th>...</th>\n",
       "      <td>...</td>\n",
       "      <td>...</td>\n",
       "    </tr>\n",
       "    <tr>\n",
       "      <th>22174</th>\n",
       "      <td>doi.org/10.1101/2020.03.05.20032003</td>\n",
       "      <td>https://www.medrxiv.org/content/medrxiv/early/...</td>\n",
       "    </tr>\n",
       "    <tr>\n",
       "      <th>22175</th>\n",
       "      <td>doi.org/10.1101/2020.03.05.20032011</td>\n",
       "      <td>https://www.medrxiv.org/content/medrxiv/early/...</td>\n",
       "    </tr>\n",
       "    <tr>\n",
       "      <th>22176</th>\n",
       "      <td>doi.org/10.1101/2020.03.06.20029793</td>\n",
       "      <td>https://www.medrxiv.org/content/medrxiv/early/...</td>\n",
       "    </tr>\n",
       "    <tr>\n",
       "      <th>22177</th>\n",
       "      <td>doi.org/10.1101/2020.03.06.20031278</td>\n",
       "      <td>https://www.medrxiv.org/content/medrxiv/early/...</td>\n",
       "    </tr>\n",
       "    <tr>\n",
       "      <th>22178</th>\n",
       "      <td>doi.org/10.1101/2020.03.06.20031377</td>\n",
       "      <td>https://www.medrxiv.org/content/medrxiv/early/...</td>\n",
       "    </tr>\n",
       "    <tr>\n",
       "      <th>22179</th>\n",
       "      <td>doi.org/10.1101/2020.03.06.20031856</td>\n",
       "      <td>https://www.medrxiv.org/content/medrxiv/early/...</td>\n",
       "    </tr>\n",
       "    <tr>\n",
       "      <th>22180</th>\n",
       "      <td>doi.org/10.1101/2020.03.06.20031880</td>\n",
       "      <td>https://www.medrxiv.org/content/medrxiv/early/...</td>\n",
       "    </tr>\n",
       "    <tr>\n",
       "      <th>22181</th>\n",
       "      <td>doi.org/10.1101/2020.03.06.20031955</td>\n",
       "      <td>https://www.medrxiv.org/content/medrxiv/early/...</td>\n",
       "    </tr>\n",
       "    <tr>\n",
       "      <th>22182</th>\n",
       "      <td>doi.org/10.1101/2020.03.06.20032144</td>\n",
       "      <td>https://www.medrxiv.org/content/medrxiv/early/...</td>\n",
       "    </tr>\n",
       "    <tr>\n",
       "      <th>22183</th>\n",
       "      <td>doi.org/10.1101/2020.03.06.20032177</td>\n",
       "      <td>https://www.medrxiv.org/content/medrxiv/early/...</td>\n",
       "    </tr>\n",
       "    <tr>\n",
       "      <th>22184</th>\n",
       "      <td>doi.org/10.1101/2020.03.06.20032334</td>\n",
       "      <td>https://www.medrxiv.org/content/medrxiv/early/...</td>\n",
       "    </tr>\n",
       "    <tr>\n",
       "      <th>22185</th>\n",
       "      <td>doi.org/10.1101/2020.03.06.20032417</td>\n",
       "      <td>https://www.medrxiv.org/content/medrxiv/early/...</td>\n",
       "    </tr>\n",
       "    <tr>\n",
       "      <th>22186</th>\n",
       "      <td>doi.org/10.1101/2020.03.06.20032425</td>\n",
       "      <td>https://www.medrxiv.org/content/medrxiv/early/...</td>\n",
       "    </tr>\n",
       "    <tr>\n",
       "      <th>22187</th>\n",
       "      <td>doi.org/10.1101/2020.03.07.20031393</td>\n",
       "      <td>https://www.medrxiv.org/content/medrxiv/early/...</td>\n",
       "    </tr>\n",
       "    <tr>\n",
       "      <th>22188</th>\n",
       "      <td>doi.org/10.1101/2020.03.07.20031575</td>\n",
       "      <td>https://www.medrxiv.org/content/medrxiv/early/...</td>\n",
       "    </tr>\n",
       "    <tr>\n",
       "      <th>22189</th>\n",
       "      <td>doi.org/10.1101/2020.03.07.20032326</td>\n",
       "      <td>https://www.medrxiv.org/content/medrxiv/early/...</td>\n",
       "    </tr>\n",
       "    <tr>\n",
       "      <th>22190</th>\n",
       "      <td>doi.org/10.1101/2020.03.07.20032524</td>\n",
       "      <td>https://www.medrxiv.org/content/medrxiv/early/...</td>\n",
       "    </tr>\n",
       "    <tr>\n",
       "      <th>22191</th>\n",
       "      <td>doi.org/10.1101/2020.03.07.20032573</td>\n",
       "      <td>https://www.medrxiv.org/content/medrxiv/early/...</td>\n",
       "    </tr>\n",
       "    <tr>\n",
       "      <th>22192</th>\n",
       "      <td>doi.org/10.1101/2020.03.07.20032599</td>\n",
       "      <td>https://www.medrxiv.org/content/medrxiv/early/...</td>\n",
       "    </tr>\n",
       "    <tr>\n",
       "      <th>22193</th>\n",
       "      <td>doi.org/10.1101/2020.03.07.20032672</td>\n",
       "      <td>https://www.medrxiv.org/content/medrxiv/early/...</td>\n",
       "    </tr>\n",
       "    <tr>\n",
       "      <th>22194</th>\n",
       "      <td>doi.org/10.1101/2020.03.08.20029710</td>\n",
       "      <td>https://www.medrxiv.org/content/medrxiv/early/...</td>\n",
       "    </tr>\n",
       "    <tr>\n",
       "      <th>22195</th>\n",
       "      <td>doi.org/10.1101/2020.03.08.20030643</td>\n",
       "      <td>https://www.medrxiv.org/content/medrxiv/early/...</td>\n",
       "    </tr>\n",
       "    <tr>\n",
       "      <th>22196</th>\n",
       "      <td>doi.org/10.1101/2020.03.08.20031229</td>\n",
       "      <td>https://www.medrxiv.org/content/medrxiv/early/...</td>\n",
       "    </tr>\n",
       "    <tr>\n",
       "      <th>22197</th>\n",
       "      <td>doi.org/10.1101/2020.03.08.20031658</td>\n",
       "      <td>https://www.medrxiv.org/content/medrxiv/early/...</td>\n",
       "    </tr>\n",
       "    <tr>\n",
       "      <th>22198</th>\n",
       "      <td>doi.org/10.1101/2020.03.08.20032821</td>\n",
       "      <td>https://www.medrxiv.org/content/medrxiv/early/...</td>\n",
       "    </tr>\n",
       "    <tr>\n",
       "      <th>22199</th>\n",
       "      <td>doi.org/10.1101/2020.03.08.20032847</td>\n",
       "      <td>https://www.medrxiv.org/content/medrxiv/early/...</td>\n",
       "    </tr>\n",
       "    <tr>\n",
       "      <th>22200</th>\n",
       "      <td>doi.org/10.1101/2020.03.08.20032854</td>\n",
       "      <td>https://www.medrxiv.org/content/medrxiv/early/...</td>\n",
       "    </tr>\n",
       "    <tr>\n",
       "      <th>22201</th>\n",
       "      <td>doi.org/10.1101/2020.03.09.20032219</td>\n",
       "      <td>https://www.medrxiv.org/content/medrxiv/early/...</td>\n",
       "    </tr>\n",
       "    <tr>\n",
       "      <th>22202</th>\n",
       "      <td>doi.org/10.1101/2020.03.09.20033183</td>\n",
       "      <td>https://www.medrxiv.org/content/medrxiv/early/...</td>\n",
       "    </tr>\n",
       "    <tr>\n",
       "      <th>22203</th>\n",
       "      <td>doi.org/10.1101/2020.03.09.20033217</td>\n",
       "      <td>https://www.medrxiv.org/content/medrxiv/early/...</td>\n",
       "    </tr>\n",
       "  </tbody>\n",
       "</table>\n",
       "<p>22204 rows × 2 columns</p>\n",
       "</div>"
      ],
      "text/plain": [
       "                                          doi  \\\n",
       "0                  10.1007/s00134-020-05985-9   \n",
       "1                   10.1038/s41421-020-0147-1   \n",
       "2                          10.3390/jcm9020538   \n",
       "3                          10.3390/jcm9020575   \n",
       "4                  10.1007/s00134-020-05976-w   \n",
       "5                   10.1016/j.idm.2020.02.001   \n",
       "6                   10.1016/j.idm.2020.02.002   \n",
       "7               10.1016/s2214-109x(20)30065-6   \n",
       "8                         10.1093/jtm/taaa030   \n",
       "9                       10.1128/mBio.02764-19   \n",
       "10                 10.1186/s41256-020-00137-4   \n",
       "11     10.2807/1560-7917.ES.2020.25.5.2000080   \n",
       "12             10.1093/bioinformatics/btaa145   \n",
       "13                   10.3346/jkms.2020.35.e79   \n",
       "14                   10.3390/pathogens9020148   \n",
       "15               10.1016/j.eclinm.2020.100289   \n",
       "16               10.1016/j.meegid.2020.104272   \n",
       "17               10.1016/j.micinf.2020.01.004   \n",
       "18                  10.1038/s41422-020-0282-0   \n",
       "19                        10.1093/jtm/taaa011   \n",
       "20                        10.12809/hkmj208375   \n",
       "21               10.20535/ibb.2020.4.1.195074   \n",
       "22     10.2807/1560-7917.ES.2020.25.8.2000097   \n",
       "23                     10.1093/pcmedi/pbaa004   \n",
       "24                   10.3389/fmicb.2019.03036   \n",
       "25                     10.3390/ijerph17051633   \n",
       "26                 10.1007/s13238-020-00693-y   \n",
       "27              10.1016/s2214-109x(20)30076-0   \n",
       "28                  10.1186/s13054-020-2786-x   \n",
       "29               10.24171/j.phrp.2020.11.1.01   \n",
       "...                                       ...   \n",
       "22174     doi.org/10.1101/2020.03.05.20032003   \n",
       "22175     doi.org/10.1101/2020.03.05.20032011   \n",
       "22176     doi.org/10.1101/2020.03.06.20029793   \n",
       "22177     doi.org/10.1101/2020.03.06.20031278   \n",
       "22178     doi.org/10.1101/2020.03.06.20031377   \n",
       "22179     doi.org/10.1101/2020.03.06.20031856   \n",
       "22180     doi.org/10.1101/2020.03.06.20031880   \n",
       "22181     doi.org/10.1101/2020.03.06.20031955   \n",
       "22182     doi.org/10.1101/2020.03.06.20032144   \n",
       "22183     doi.org/10.1101/2020.03.06.20032177   \n",
       "22184     doi.org/10.1101/2020.03.06.20032334   \n",
       "22185     doi.org/10.1101/2020.03.06.20032417   \n",
       "22186     doi.org/10.1101/2020.03.06.20032425   \n",
       "22187     doi.org/10.1101/2020.03.07.20031393   \n",
       "22188     doi.org/10.1101/2020.03.07.20031575   \n",
       "22189     doi.org/10.1101/2020.03.07.20032326   \n",
       "22190     doi.org/10.1101/2020.03.07.20032524   \n",
       "22191     doi.org/10.1101/2020.03.07.20032573   \n",
       "22192     doi.org/10.1101/2020.03.07.20032599   \n",
       "22193     doi.org/10.1101/2020.03.07.20032672   \n",
       "22194     doi.org/10.1101/2020.03.08.20029710   \n",
       "22195     doi.org/10.1101/2020.03.08.20030643   \n",
       "22196     doi.org/10.1101/2020.03.08.20031229   \n",
       "22197     doi.org/10.1101/2020.03.08.20031658   \n",
       "22198     doi.org/10.1101/2020.03.08.20032821   \n",
       "22199     doi.org/10.1101/2020.03.08.20032847   \n",
       "22200     doi.org/10.1101/2020.03.08.20032854   \n",
       "22201     doi.org/10.1101/2020.03.09.20032219   \n",
       "22202     doi.org/10.1101/2020.03.09.20033183   \n",
       "22203     doi.org/10.1101/2020.03.09.20033217   \n",
       "\n",
       "                                                     url  \n",
       "0      https://link.springer.com/content/pdf/10.1007/...  \n",
       "1      https://www.nature.com/articles/s41421-020-014...  \n",
       "2             https://www.mdpi.com/2077-0383/9/2/538/pdf  \n",
       "3             https://www.mdpi.com/2077-0383/9/2/575/pdf  \n",
       "4      https://link.springer.com/content/pdf/10.1007/...  \n",
       "5                                                    NaN  \n",
       "6                                                    NaN  \n",
       "7      http://www.thelancet.com/article/S2214109X2030...  \n",
       "8      https://academic.oup.com/jtm/advance-article-p...  \n",
       "9      https://mbio.asm.org/content/mbio/11/1/e02764-...  \n",
       "10     https://ghrp.biomedcentral.com/track/pdf/10.11...  \n",
       "11     https://www.eurosurveillance.org/deliver/fullt...  \n",
       "12     https://academic.oup.com/bioinformatics/advanc...  \n",
       "13                                                   NaN  \n",
       "14            https://www.mdpi.com/2076-0817/9/2/148/pdf  \n",
       "15     http://www.thelancet.com/article/S258953702030...  \n",
       "16                                                   NaN  \n",
       "17                                                   NaN  \n",
       "18     https://www.nature.com/articles/s41422-020-028...  \n",
       "19     https://academic.oup.com/jtm/article-pdf/27/2/...  \n",
       "20      https://www.hkmj.org/system/files/hkmj208375.pdf  \n",
       "21      http://ibb.kpi.ua/article/download/195074/pdf_71  \n",
       "22     https://www.eurosurveillance.org/deliver/fullt...  \n",
       "23     https://academic.oup.com/pcm/advance-article-p...  \n",
       "24     https://www.frontiersin.org/articles/10.3389/f...  \n",
       "25          https://www.mdpi.com/1660-4601/17/5/1633/pdf  \n",
       "26     https://link.springer.com/content/pdf/10.1007/...  \n",
       "27     http://www.thelancet.com/article/S2214109X2030...  \n",
       "28     https://ccforum.biomedcentral.com/track/pdf/10...  \n",
       "29            http://ophrp.org/upload/pdf/ophrp-11-1.pdf  \n",
       "...                                                  ...  \n",
       "22174  https://www.medrxiv.org/content/medrxiv/early/...  \n",
       "22175  https://www.medrxiv.org/content/medrxiv/early/...  \n",
       "22176  https://www.medrxiv.org/content/medrxiv/early/...  \n",
       "22177  https://www.medrxiv.org/content/medrxiv/early/...  \n",
       "22178  https://www.medrxiv.org/content/medrxiv/early/...  \n",
       "22179  https://www.medrxiv.org/content/medrxiv/early/...  \n",
       "22180  https://www.medrxiv.org/content/medrxiv/early/...  \n",
       "22181  https://www.medrxiv.org/content/medrxiv/early/...  \n",
       "22182  https://www.medrxiv.org/content/medrxiv/early/...  \n",
       "22183  https://www.medrxiv.org/content/medrxiv/early/...  \n",
       "22184  https://www.medrxiv.org/content/medrxiv/early/...  \n",
       "22185  https://www.medrxiv.org/content/medrxiv/early/...  \n",
       "22186  https://www.medrxiv.org/content/medrxiv/early/...  \n",
       "22187  https://www.medrxiv.org/content/medrxiv/early/...  \n",
       "22188  https://www.medrxiv.org/content/medrxiv/early/...  \n",
       "22189  https://www.medrxiv.org/content/medrxiv/early/...  \n",
       "22190  https://www.medrxiv.org/content/medrxiv/early/...  \n",
       "22191  https://www.medrxiv.org/content/medrxiv/early/...  \n",
       "22192  https://www.medrxiv.org/content/medrxiv/early/...  \n",
       "22193  https://www.medrxiv.org/content/medrxiv/early/...  \n",
       "22194  https://www.medrxiv.org/content/medrxiv/early/...  \n",
       "22195  https://www.medrxiv.org/content/medrxiv/early/...  \n",
       "22196  https://www.medrxiv.org/content/medrxiv/early/...  \n",
       "22197  https://www.medrxiv.org/content/medrxiv/early/...  \n",
       "22198  https://www.medrxiv.org/content/medrxiv/early/...  \n",
       "22199  https://www.medrxiv.org/content/medrxiv/early/...  \n",
       "22200  https://www.medrxiv.org/content/medrxiv/early/...  \n",
       "22201  https://www.medrxiv.org/content/medrxiv/early/...  \n",
       "22202  https://www.medrxiv.org/content/medrxiv/early/...  \n",
       "22203  https://www.medrxiv.org/content/medrxiv/early/...  \n",
       "\n",
       "[22204 rows x 2 columns]"
      ]
     },
     "execution_count": 19,
     "metadata": {},
     "output_type": "execute_result"
    }
   ],
   "source": [
    "doi_df_u"
   ]
  },
  {
   "cell_type": "code",
   "execution_count": 13,
   "metadata": {},
   "outputs": [],
   "source": [
    "doi_df_u.to_csv(os.path.join(data_dir, './covid19_paper_doi_url.csv'), index=False)"
   ]
  },
  {
   "cell_type": "markdown",
   "metadata": {},
   "source": [
    "## Download pdf"
   ]
  },
  {
   "cell_type": "code",
   "execution_count": 32,
   "metadata": {},
   "outputs": [],
   "source": [
    "import os\n",
    "\n",
    "download_dir = os.path.join(data_dir, 'covid19_paper_pdf')\n",
    "os.makedirs(download_dir, exist_ok=True)"
   ]
  },
  {
   "cell_type": "code",
   "execution_count": 33,
   "metadata": {},
   "outputs": [],
   "source": [
    "# requests download better than urllib, fewer error code, can simulate browser...\n",
    "import requests\n",
    "\n",
    "# see: https://stackoverflow.com/questions/27652543/how-to-use-python-requests-to-fake-a-browser-visit\n",
    "headers = {'User-Agent': 'Mozilla/5.0 (Macintosh; Intel Mac OS X 10_10_1) AppleWebKit/537.36 (KHTML, like Gecko) Chrome/39.0.2171.95 Safari/537.36'}\n",
    "\n",
    "def download_pdf(doi_url):\n",
    "    doi, url = str(doi_url[0]), str(doi_url[1])\n",
    "    fn = doi.replace('/', '_') + '.pdf'\n",
    "    downloaded_doi_fn = set([fn for fn in os.listdir(download_dir)])\n",
    "    if fn in downloaded_doi_fn:\n",
    "        return 1\n",
    "    try:\n",
    "        if url is not None and url != 'nan' and len(url) > 0:\n",
    "            response = requests.get(url, headers=headers)\n",
    "            if response.status_code == 200:\n",
    "                file_name = os.path.join(download_dir, fn)\n",
    "                with open(file_name, 'wb') as f:\n",
    "                    f.write(response.content)\n",
    "        return 0\n",
    "    except Exception as e:\n",
    "        print('Download {} at {} error: {}'.format(doi, url, str(e)))\n",
    "        return -1\n"
   ]
  },
  {
   "cell_type": "code",
   "execution_count": 25,
   "metadata": {},
   "outputs": [
    {
     "data": {
      "text/plain": [
       "0"
      ]
     },
     "execution_count": 25,
     "metadata": {},
     "output_type": "execute_result"
    }
   ],
   "source": [
    "download_pdf(doi_df_u.iloc[0, :])"
   ]
  },
  {
   "cell_type": "code",
   "execution_count": 50,
   "metadata": {},
   "outputs": [
    {
     "name": "stdout",
     "output_type": "stream",
     "text": [
      "Tried downloading 0 dois.\n",
      "Tried downloading 1000 dois.\n",
      "Tried downloading 2000 dois.\n",
      "Tried downloading 3000 dois.\n",
      "Download http://dx.doi.org/10.2196/jmir.2146 at https://assetapi.jmir.pub/download?file=5c6a9e5b3ad871d2ed60236360d7dca5.pdf&alt_file=2146-23211-2-SP.pdf error: HTTPSConnectionPool(host='assetapi.jmir.pub', port=443): Max retries exceeded with url: /download?file=5c6a9e5b3ad871d2ed60236360d7dca5.pdf&alt_file=2146-23211-2-SP.pdf (Caused by SSLError(SSLError(\"bad handshake: Error([('SSL routines', 'ssl3_get_server_certificate', 'certificate verify failed')],)\",),))\n",
      "Download http://dx.doi.org/10.2196/mhealth.2827 at https://assetapi.jmir.pub/download?file=18ff72c48247124a4f6a6d982fbf73af.pdf&alt_file=2827-37049-1-SP.pdf error: HTTPSConnectionPool(host='assetapi.jmir.pub', port=443): Max retries exceeded with url: /download?file=18ff72c48247124a4f6a6d982fbf73af.pdf&alt_file=2827-37049-1-SP.pdf (Caused by SSLError(SSLError(\"bad handshake: Error([('SSL routines', 'ssl3_get_server_certificate', 'certificate verify failed')],)\",),))\n",
      "Tried downloading 4000 dois.\n",
      "Download http://dx.doi.org/10.2196/jmir.3720 at https://assetapi.jmir.pub/download?file=82c9b814be7eb6d9f4edbe8591adcd97.pdf&alt_file=3720-52478-2-SP.pdf error: HTTPSConnectionPool(host='assetapi.jmir.pub', port=443): Max retries exceeded with url: /download?file=82c9b814be7eb6d9f4edbe8591adcd97.pdf&alt_file=3720-52478-2-SP.pdf (Caused by SSLError(SSLError(\"bad handshake: Error([('SSL routines', 'ssl3_get_server_certificate', 'certificate verify failed')],)\",),))\n",
      "Tried downloading 5000 dois.\n",
      "Download http://dx.doi.org/10.1016/S1473-3099(16)00153-5 at https://manuscript.elsevier.com/S1473309916001535/pdf/S1473309916001535.pdf error: HTTPSConnectionPool(host='manuscript.elsevier.com', port=443): Max retries exceeded with url: /S1473309916001535/pdf/S1473309916001535.pdf (Caused by SSLError(SSLError(\"bad handshake: Error([('SSL routines', 'ssl3_get_server_certificate', 'certificate verify failed')],)\",),))\n",
      "Tried downloading 6000 dois.\n",
      "Tried downloading 7000 dois.\n",
      "Tried downloading 8000 dois.\n",
      "Download http://dx.doi.org/10.1007/s10393-018-1322-9 at http://spiral.imperial.ac.uk/bitstream/10044/1/59063/2/s10393-018-1322-9.pdf error: HTTPSConnectionPool(host='spiral.imperial.ac.uk', port=8443): Max retries exceeded with url: /bitstream/10044/1/59063/2/s10393-018-1322-9.pdf (Caused by NewConnectionError('<urllib3.connection.VerifiedHTTPSConnection object at 0x7fa69c0c69b0>: Failed to establish a new connection: [Errno 111] Connection refused',))\n",
      "Tried downloading 9000 dois.\n",
      "Tried downloading 10000 dois.\n",
      "Download http://dx.doi.org/10.15537/smj.2017.2.16255 at https://www.smj.org.sa/index.php/smj/article/download/smj.2017.2.16255/9979 error: HTTPSConnectionPool(host='www.smj.org.sa', port=443): Max retries exceeded with url: /index.php/smj/article/download/smj.2017.2.16255/9979 (Caused by NewConnectionError('<urllib3.connection.VerifiedHTTPSConnection object at 0x7fa6d5a3f3c8>: Failed to establish a new connection: [Errno 110] Connection timed out',))\n",
      "Download http://dx.doi.org/10.15537/smj.2015.4.10908 at https://www.smj.org.sa/index.php/smj/article/download/smj.2015.4.10908/7164 error: HTTPSConnectionPool(host='www.smj.org.sa', port=443): Max retries exceeded with url: /index.php/smj/article/download/smj.2015.4.10908/7164 (Caused by NewConnectionError('<urllib3.connection.VerifiedHTTPSConnection object at 0x7fa6d7907cc0>: Failed to establish a new connection: [Errno 110] Connection timed out',))\n",
      "Download http://dx.doi.org/10.15537/smj.2017.3.17483 at https://www.smj.org.sa/index.php/smj/article/download/smj.2017.3.17483/10025 error: HTTPSConnectionPool(host='www.smj.org.sa', port=443): Max retries exceeded with url: /index.php/smj/article/download/smj.2017.3.17483/10025 (Caused by NewConnectionError('<urllib3.connection.VerifiedHTTPSConnection object at 0x7fa69c173240>: Failed to establish a new connection: [Errno 110] Connection timed out',))\n",
      "Download http://dx.doi.org/10.15537/smj.2017.9.20626 at https://www.smj.org.sa/index.php/smj/article/download/smj.2017.9.20626/10434 error: HTTPSConnectionPool(host='www.smj.org.sa', port=443): Max retries exceeded with url: /index.php/smj/article/download/smj.2017.9.20626/10434 (Caused by NewConnectionError('<urllib3.connection.VerifiedHTTPSConnection object at 0x7fa69c1730b8>: Failed to establish a new connection: [Errno 110] Connection timed out',))\n",
      "Tried downloading 11000 dois.\n",
      "Download http://dx.doi.org/10.1016/S2213-2600(17)30174-1 at https://manuscript.elsevier.com/S2213260017301741/pdf/S2213260017301741.pdf error: HTTPSConnectionPool(host='manuscript.elsevier.com', port=443): Max retries exceeded with url: /S2213260017301741/pdf/S2213260017301741.pdf (Caused by SSLError(SSLError(\"bad handshake: Error([('SSL routines', 'ssl3_get_server_certificate', 'certificate verify failed')],)\",),))\n",
      "Tried downloading 12000 dois.\n",
      "Download http://dx.doi.org/10.5423/PPJ.OA.03.2015.0044 at http://society.kisti.re.kr/sv/SV_svpsbs03V.do?method=download&cn1=JAKO201526650061352 error: HTTPConnectionPool(host='society.kisti.re.kr', port=80): Read timed out. (read timeout=None)\n",
      "Download http://dx.doi.org/10.5487/TR.2012.28.2.117 at http://society.kisti.re.kr/sv/SV_svpsbs03V.do?method=download&cn1=JAKO201220962919070 error: HTTPConnectionPool(host='society.kisti.re.kr', port=80): Read timed out. (read timeout=None)\n",
      "Tried downloading 13000 dois.\n",
      "Tried downloading 14000 dois.\n",
      "Download http://dx.doi.org/10.1016/j.jmb.2017.04.011 at https://manuscript.elsevier.com/S0022283617301870/pdf/S0022283617301870.pdf error: HTTPSConnectionPool(host='manuscript.elsevier.com', port=443): Max retries exceeded with url: /S0022283617301870/pdf/S0022283617301870.pdf (Caused by SSLError(SSLError(\"bad handshake: Error([('SSL routines', 'ssl3_get_server_certificate', 'certificate verify failed')],)\",),))\n",
      "Download http://dx.doi.org/10.1016/j.bmcl.2017.04.069 at https://manuscript.elsevier.com/S0960894X17304456/pdf/S0960894X17304456.pdf error: HTTPSConnectionPool(host='manuscript.elsevier.com', port=443): Max retries exceeded with url: /S0960894X17304456/pdf/S0960894X17304456.pdf (Caused by SSLError(SSLError(\"bad handshake: Error([('SSL routines', 'ssl3_get_server_certificate', 'certificate verify failed')],)\",),))\n",
      "Download http://dx.doi.org/10.1016/j.ejmech.2016.11.027 at https://manuscript.elsevier.com/S0223523416309655/pdf/S0223523416309655.pdf error: HTTPSConnectionPool(host='manuscript.elsevier.com', port=443): Max retries exceeded with url: /S0223523416309655/pdf/S0223523416309655.pdf (Caused by SSLError(SSLError(\"bad handshake: Error([('SSL routines', 'ssl3_get_server_certificate', 'certificate verify failed')],)\",),))\n",
      "Download http://dx.doi.org/10.1016/j.vaccine.2016.08.088 at https://manuscript.elsevier.com/S0264410X16307964/pdf/S0264410X16307964.pdf error: HTTPSConnectionPool(host='manuscript.elsevier.com', port=443): Max retries exceeded with url: /S0264410X16307964/pdf/S0264410X16307964.pdf (Caused by SSLError(SSLError(\"bad handshake: Error([('SSL routines', 'ssl3_get_server_certificate', 'certificate verify failed')],)\",),))\n",
      "Download http://dx.doi.org/10.1016/j.bios.2016.09.006 at https://manuscript.elsevier.com/S095656631630879X/pdf/S095656631630879X.pdf error: HTTPSConnectionPool(host='manuscript.elsevier.com', port=443): Max retries exceeded with url: /S095656631630879X/pdf/S095656631630879X.pdf (Caused by SSLError(SSLError(\"bad handshake: Error([('SSL routines', 'ssl3_get_server_certificate', 'certificate verify failed')],)\",),))\n",
      "Download http://dx.doi.org/10.1016/j.jviromet.2016.07.008 at https://manuscript.elsevier.com/S0166093416300180/pdf/S0166093416300180.pdf error: HTTPSConnectionPool(host='manuscript.elsevier.com', port=443): Max retries exceeded with url: /S0166093416300180/pdf/S0166093416300180.pdf (Caused by SSLError(SSLError(\"bad handshake: Error([('SSL routines', 'ssl3_get_server_certificate', 'certificate verify failed')],)\",),))\n",
      "Download http://dx.doi.org/10.1016/j.jmb.2016.06.002 at https://manuscript.elsevier.com/S0022283616302108/pdf/S0022283616302108.pdf error: HTTPSConnectionPool(host='manuscript.elsevier.com', port=443): Max retries exceeded with url: /S0022283616302108/pdf/S0022283616302108.pdf (Caused by SSLError(SSLError(\"bad handshake: Error([('SSL routines', 'ssl3_get_server_certificate', 'certificate verify failed')],)\",),))\n"
     ]
    },
    {
     "name": "stdout",
     "output_type": "stream",
     "text": [
      "Download http://dx.doi.org/10.1016/j.ejmech.2016.04.013 at https://manuscript.elsevier.com/S0223523416302951/pdf/S0223523416302951.pdf error: HTTPSConnectionPool(host='manuscript.elsevier.com', port=443): Max retries exceeded with url: /S0223523416302951/pdf/S0223523416302951.pdf (Caused by SSLError(SSLError(\"bad handshake: Error([('SSL routines', 'ssl3_get_server_certificate', 'certificate verify failed')],)\",),))\n",
      "Download http://dx.doi.org/10.1016/j.sbi.2016.02.001 at https://manuscript.elsevier.com/S0959440X1630001X/pdf/S0959440X1630001X.pdf error: HTTPSConnectionPool(host='manuscript.elsevier.com', port=443): Max retries exceeded with url: /S0959440X1630001X/pdf/S0959440X1630001X.pdf (Caused by SSLError(SSLError(\"bad handshake: Error([('SSL routines', 'ssl3_get_server_certificate', 'certificate verify failed')],)\",),))\n",
      "Download http://dx.doi.org/10.1016/j.jmb.2015.09.020 at https://manuscript.elsevier.com/S0022283615005434/pdf/S0022283615005434.pdf error: HTTPSConnectionPool(host='manuscript.elsevier.com', port=443): Max retries exceeded with url: /S0022283615005434/pdf/S0022283615005434.pdf (Caused by SSLError(SSLError(\"bad handshake: Error([('SSL routines', 'ssl3_get_server_certificate', 'certificate verify failed')],)\",),))\n",
      "Download http://dx.doi.org/10.1016/j.bmcl.2015.10.023 at https://manuscript.elsevier.com/S0960894X15301311/pdf/S0960894X15301311.pdf error: HTTPSConnectionPool(host='manuscript.elsevier.com', port=443): Max retries exceeded with url: /S0960894X15301311/pdf/S0960894X15301311.pdf (Caused by SSLError(SSLError(\"bad handshake: Error([('SSL routines', 'ssl3_get_server_certificate', 'certificate verify failed')],)\",),))\n",
      "Download http://dx.doi.org/10.1152/ajplung.00319.2015 at https://www.ncbi.nlm.nih.gov/pmc/articles/PMC4669342/pdf error: ('Connection aborted.', RemoteDisconnected('Remote end closed connection without response',))\n",
      "Tried downloading 15000 dois.\n",
      "Download http://dx.doi.org/10.1016/j.jconrel.2015.09.047 at https://manuscript.elsevier.com/S0168365915301474/pdf/S0168365915301474.pdf error: HTTPSConnectionPool(host='manuscript.elsevier.com', port=443): Max retries exceeded with url: /S0168365915301474/pdf/S0168365915301474.pdf (Caused by SSLError(SSLError(\"bad handshake: Error([('SSL routines', 'ssl3_get_server_certificate', 'certificate verify failed')],)\",),))\n",
      "Download http://dx.doi.org/10.1016/j.vph.2015.08.014 at https://manuscript.elsevier.com/S1537189115002001/pdf/S1537189115002001.pdf error: HTTPSConnectionPool(host='manuscript.elsevier.com', port=443): Max retries exceeded with url: /S1537189115002001/pdf/S1537189115002001.pdf (Caused by SSLError(SSLError(\"bad handshake: Error([('SSL routines', 'ssl3_get_server_certificate', 'certificate verify failed')],)\",),))\n",
      "Download http://dx.doi.org/10.1016/j.bmc.2015.06.039 at https://manuscript.elsevier.com/S0968089615005337/pdf/S0968089615005337.pdf error: HTTPSConnectionPool(host='manuscript.elsevier.com', port=443): Max retries exceeded with url: /S0968089615005337/pdf/S0968089615005337.pdf (Caused by SSLError(SSLError(\"bad handshake: Error([('SSL routines', 'ssl3_get_server_certificate', 'certificate verify failed')],)\",),))\n",
      "Download http://dx.doi.org/10.1152/ajpendo.00596.2014 at https://www.ncbi.nlm.nih.gov/pmc/articles/PMC4490333/pdf error: ('Connection aborted.', RemoteDisconnected('Remote end closed connection without response',))\n",
      "Download http://dx.doi.org/10.1016/j.coviro.2015.01.002 at https://manuscript.elsevier.com/S1879625715000036/pdf/S1879625715000036.pdf error: HTTPSConnectionPool(host='manuscript.elsevier.com', port=443): Max retries exceeded with url: /S1879625715000036/pdf/S1879625715000036.pdf (Caused by SSLError(SSLError(\"bad handshake: Error([('SSL routines', 'ssl3_get_server_certificate', 'certificate verify failed')],)\",),))\n",
      "Download http://dx.doi.org/10.1152/ajpendo.00131.2015 at https://www.ncbi.nlm.nih.gov/pmc/articles/PMC4504933/pdf error: ('Connection aborted.', RemoteDisconnected('Remote end closed connection without response',))\n",
      "Download http://dx.doi.org/10.1016/j.virusres.2015.01.016 at https://manuscript.elsevier.com/S016817021500026X/pdf/S016817021500026X.pdf error: HTTPSConnectionPool(host='manuscript.elsevier.com', port=443): Max retries exceeded with url: /S016817021500026X/pdf/S016817021500026X.pdf (Caused by SSLError(SSLError(\"bad handshake: Error([('SSL routines', 'ssl3_get_server_certificate', 'certificate verify failed')],)\",),))\n",
      "Download http://dx.doi.org/10.1152/ajplung.00028.2015 at https://www.ncbi.nlm.nih.gov/pmc/articles/PMC4587599/pdf error: ('Connection aborted.', RemoteDisconnected('Remote end closed connection without response',))\n",
      "Download http://dx.doi.org/10.1152/ajplung.00233.2013 at https://www.ncbi.nlm.nih.gov/pmc/articles/PMC4080284/pdf error: ('Connection aborted.', RemoteDisconnected('Remote end closed connection without response',))\n",
      "Tried downloading 16000 dois.\n",
      "Download http://dx.doi.org/10.1189/jlb.0713386 at https://www.ncbi.nlm.nih.gov/pmc/articles/PMC3923083/pdf error: ('Connection aborted.', RemoteDisconnected('Remote end closed connection without response',))\n",
      "Download http://dx.doi.org/10.4103/0972-5229.120316 at https://www.ncbi.nlm.nih.gov/pmc/articles/PMC3841487/pdf error: ('Connection aborted.', RemoteDisconnected('Remote end closed connection without response',))\n",
      "Download http://dx.doi.org/10.1152/ajprenal.00009.2013 at https://www.ncbi.nlm.nih.gov/pmc/articles/PMC3840225/pdf error: ('Connection aborted.', RemoteDisconnected('Remote end closed connection without response',))\n",
      "Download http://dx.doi.org/10.4103/0973-7847.120517 at https://www.ncbi.nlm.nih.gov/pmc/articles/PMC3841994/pdf error: ('Connection aborted.', RemoteDisconnected('Remote end closed connection without response',))\n",
      "Download http://dx.doi.org/10.1096/fj.12-210377 at https://www.ncbi.nlm.nih.gov/pmc/articles/PMC3545529/pdf error: ('Connection aborted.', RemoteDisconnected('Remote end closed connection without response',))\n",
      "Download http://dx.doi.org/10.1007/s00018-012-1213-0 at https://www.ncbi.nlm.nih.gov/pmc/articles/PMC4901162/pdf error: ('Connection aborted.', RemoteDisconnected('Remote end closed connection without response',))\n",
      "Download http://dx.doi.org/10.1096/fj.12-215111 at https://www.ncbi.nlm.nih.gov/pmc/articles/PMC3475257/pdf error: ('Connection aborted.', RemoteDisconnected('Remote end closed connection without response',))\n",
      "Tried downloading 17000 dois.\n",
      "Download http://dx.doi.org/10.1152/ajplung.00331.2011 at https://www.ncbi.nlm.nih.gov/pmc/articles/PMC3379047/pdf error: ('Connection aborted.', RemoteDisconnected('Remote end closed connection without response',))\n",
      "Download http://dx.doi.org/10.1152/japplphysiol.00739.2011 at https://www.ncbi.nlm.nih.gov/pmc/articles/PMC3289432/pdf error: ('Connection aborted.', RemoteDisconnected('Remote end closed connection without response',))\n",
      "Download http://dx.doi.org/10.1152/ajplung.00202.2011 at https://www.ncbi.nlm.nih.gov/pmc/articles/PMC3311512/pdf error: ('Connection aborted.', RemoteDisconnected('Remote end closed connection without response',))\n",
      "Tried downloading 18000 dois.\n",
      "Download http://dx.doi.org/10.1152/ajpcell.00047.2010 at https://www.ncbi.nlm.nih.gov/pmc/articles/PMC2944325/pdf error: ('Connection aborted.', RemoteDisconnected('Remote end closed connection without response',))\n",
      "Download http://dx.doi.org/10.4103/0973-1296.59963 at https://www.ncbi.nlm.nih.gov/pmc/articles/PMC2881654/pdf error: ('Connection aborted.', RemoteDisconnected('Remote end closed connection without response',))\n",
      "Download http://dx.doi.org/10.1152/ajplung.90389.2008 at https://www.ncbi.nlm.nih.gov/pmc/articles/PMC2793185/pdf error: ('Connection aborted.', RemoteDisconnected('Remote end closed connection without response',))\n",
      "Download http://dx.doi.org/10.1152/ajprenal.00011.2009 at https://www.ncbi.nlm.nih.gov/pmc/articles/PMC2781347/pdf error: ('Connection aborted.', RemoteDisconnected('Remote end closed connection without response',))\n",
      "Tried downloading 19000 dois.\n",
      "Download http://dx.doi.org/10.1136/bmj.39118.367523.DB at https://www.ncbi.nlm.nih.gov/pmc/articles/PMC1796705/pdf error: ('Connection aborted.', RemoteDisconnected('Remote end closed connection without response',))\n",
      "Tried downloading 20000 dois.\n"
     ]
    },
    {
     "name": "stdout",
     "output_type": "stream",
     "text": [
      "Tried downloading 21000 dois.\n",
      "Tried downloading 22000 dois.\n"
     ]
    }
   ],
   "source": [
    "import socket\n",
    "\n",
    "socket.setdefaulttimeout(10) # default timeout in seconds\n",
    "\n",
    "from multiprocessing.pool import ThreadPool\n",
    "\n",
    "pool_size = 1000\n",
    "with ThreadPool(pool_size) as pool:\n",
    "    for i in range(0, doi_df_u.shape[0], pool_size):\n",
    "        print('Tried downloading {} dois.'.format(i))\n",
    "        pool.map(download_pdf, zip(doi_df_u.iloc[i:i+pool_size, 0], doi_df_u.iloc[i:i+pool_size, 1]))\n"
   ]
  },
  {
   "cell_type": "code",
   "execution_count": null,
   "metadata": {},
   "outputs": [],
   "source": []
  }
 ],
 "metadata": {
  "kernelspec": {
   "display_name": "Python 3",
   "language": "python",
   "name": "python3"
  },
  "language_info": {
   "codemirror_mode": {
    "name": "ipython",
    "version": 3
   },
   "file_extension": ".py",
   "mimetype": "text/x-python",
   "name": "python",
   "nbconvert_exporter": "python",
   "pygments_lexer": "ipython3",
   "version": "3.7.3"
  }
 },
 "nbformat": 4,
 "nbformat_minor": 2
}
